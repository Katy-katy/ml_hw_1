{
 "cells": [
  {
   "cell_type": "code",
   "execution_count": 1,
   "metadata": {},
   "outputs": [],
   "source": [
    "import pandas as pd\n",
    "from nltk.corpus import stopwords\n",
    "from nltk.tokenize import word_tokenize\n",
    "from nltk.stem import PorterStemmer\n",
    "from nltk.stem import WordNetLemmatizer\n",
    "from sklearn.model_selection import train_test_split\n",
    "from sklearn.model_selection import train_test_split\n",
    "from sklearn.feature_extraction.text import TfidfVectorizer\n",
    "import warnings\n",
    "warnings.filterwarnings('ignore')"
   ]
  },
  {
   "cell_type": "code",
   "execution_count": 2,
   "metadata": {},
   "outputs": [],
   "source": [
    "# kaggle competition https://www.kaggle.com/c/shelter-animal-outcomes/data"
   ]
  },
  {
   "cell_type": "code",
   "execution_count": 3,
   "metadata": {},
   "outputs": [],
   "source": [
    "# we will take train dataset from Kaggle and split it into train/ test (we cannot use test dataset from Kaggle\n",
    "# since it has no labels)\n",
    "all_data = pd.read_csv(\"shelter-animal-outcomes/train.csv\")"
   ]
  },
  {
   "cell_type": "code",
   "execution_count": 4,
   "metadata": {},
   "outputs": [
    {
     "data": {
      "text/html": [
       "<div>\n",
       "<style scoped>\n",
       "    .dataframe tbody tr th:only-of-type {\n",
       "        vertical-align: middle;\n",
       "    }\n",
       "\n",
       "    .dataframe tbody tr th {\n",
       "        vertical-align: top;\n",
       "    }\n",
       "\n",
       "    .dataframe thead th {\n",
       "        text-align: right;\n",
       "    }\n",
       "</style>\n",
       "<table border=\"1\" class=\"dataframe\">\n",
       "  <thead>\n",
       "    <tr style=\"text-align: right;\">\n",
       "      <th></th>\n",
       "      <th>AnimalID</th>\n",
       "      <th>Name</th>\n",
       "      <th>DateTime</th>\n",
       "      <th>OutcomeType</th>\n",
       "      <th>OutcomeSubtype</th>\n",
       "      <th>AnimalType</th>\n",
       "      <th>SexuponOutcome</th>\n",
       "      <th>AgeuponOutcome</th>\n",
       "      <th>Breed</th>\n",
       "      <th>Color</th>\n",
       "    </tr>\n",
       "  </thead>\n",
       "  <tbody>\n",
       "    <tr>\n",
       "      <th>0</th>\n",
       "      <td>A671945</td>\n",
       "      <td>Hambone</td>\n",
       "      <td>2014-02-12 18:22:00</td>\n",
       "      <td>Return_to_owner</td>\n",
       "      <td>NaN</td>\n",
       "      <td>Dog</td>\n",
       "      <td>Neutered Male</td>\n",
       "      <td>1 year</td>\n",
       "      <td>Shetland Sheepdog Mix</td>\n",
       "      <td>Brown/White</td>\n",
       "    </tr>\n",
       "    <tr>\n",
       "      <th>1</th>\n",
       "      <td>A656520</td>\n",
       "      <td>Emily</td>\n",
       "      <td>2013-10-13 12:44:00</td>\n",
       "      <td>Euthanasia</td>\n",
       "      <td>Suffering</td>\n",
       "      <td>Cat</td>\n",
       "      <td>Spayed Female</td>\n",
       "      <td>1 year</td>\n",
       "      <td>Domestic Shorthair Mix</td>\n",
       "      <td>Cream Tabby</td>\n",
       "    </tr>\n",
       "    <tr>\n",
       "      <th>2</th>\n",
       "      <td>A686464</td>\n",
       "      <td>Pearce</td>\n",
       "      <td>2015-01-31 12:28:00</td>\n",
       "      <td>Adoption</td>\n",
       "      <td>Foster</td>\n",
       "      <td>Dog</td>\n",
       "      <td>Neutered Male</td>\n",
       "      <td>2 years</td>\n",
       "      <td>Pit Bull Mix</td>\n",
       "      <td>Blue/White</td>\n",
       "    </tr>\n",
       "    <tr>\n",
       "      <th>3</th>\n",
       "      <td>A683430</td>\n",
       "      <td>NaN</td>\n",
       "      <td>2014-07-11 19:09:00</td>\n",
       "      <td>Transfer</td>\n",
       "      <td>Partner</td>\n",
       "      <td>Cat</td>\n",
       "      <td>Intact Male</td>\n",
       "      <td>3 weeks</td>\n",
       "      <td>Domestic Shorthair Mix</td>\n",
       "      <td>Blue Cream</td>\n",
       "    </tr>\n",
       "    <tr>\n",
       "      <th>4</th>\n",
       "      <td>A667013</td>\n",
       "      <td>NaN</td>\n",
       "      <td>2013-11-15 12:52:00</td>\n",
       "      <td>Transfer</td>\n",
       "      <td>Partner</td>\n",
       "      <td>Dog</td>\n",
       "      <td>Neutered Male</td>\n",
       "      <td>2 years</td>\n",
       "      <td>Lhasa Apso/Miniature Poodle</td>\n",
       "      <td>Tan</td>\n",
       "    </tr>\n",
       "  </tbody>\n",
       "</table>\n",
       "</div>"
      ],
      "text/plain": [
       "  AnimalID     Name             DateTime      OutcomeType OutcomeSubtype  \\\n",
       "0  A671945  Hambone  2014-02-12 18:22:00  Return_to_owner            NaN   \n",
       "1  A656520    Emily  2013-10-13 12:44:00       Euthanasia      Suffering   \n",
       "2  A686464   Pearce  2015-01-31 12:28:00         Adoption         Foster   \n",
       "3  A683430      NaN  2014-07-11 19:09:00         Transfer        Partner   \n",
       "4  A667013      NaN  2013-11-15 12:52:00         Transfer        Partner   \n",
       "\n",
       "  AnimalType SexuponOutcome AgeuponOutcome                        Breed  \\\n",
       "0        Dog  Neutered Male         1 year        Shetland Sheepdog Mix   \n",
       "1        Cat  Spayed Female         1 year       Domestic Shorthair Mix   \n",
       "2        Dog  Neutered Male        2 years                 Pit Bull Mix   \n",
       "3        Cat    Intact Male        3 weeks       Domestic Shorthair Mix   \n",
       "4        Dog  Neutered Male        2 years  Lhasa Apso/Miniature Poodle   \n",
       "\n",
       "         Color  \n",
       "0  Brown/White  \n",
       "1  Cream Tabby  \n",
       "2   Blue/White  \n",
       "3   Blue Cream  \n",
       "4          Tan  "
      ]
     },
     "execution_count": 4,
     "metadata": {},
     "output_type": "execute_result"
    }
   ],
   "source": [
    "all_data.head()"
   ]
  },
  {
   "cell_type": "code",
   "execution_count": 5,
   "metadata": {},
   "outputs": [
    {
     "data": {
      "text/plain": [
       "(26729, 10)"
      ]
     },
     "execution_count": 5,
     "metadata": {},
     "output_type": "execute_result"
    }
   ],
   "source": [
    "all_data.shape"
   ]
  },
  {
   "cell_type": "code",
   "execution_count": 6,
   "metadata": {},
   "outputs": [
    {
     "data": {
      "text/plain": [
       "Adoption           10769\n",
       "Transfer            9422\n",
       "Return_to_owner     4786\n",
       "Euthanasia          1555\n",
       "Died                 197\n",
       "Name: OutcomeType, dtype: int64"
      ]
     },
     "execution_count": 6,
     "metadata": {},
     "output_type": "execute_result"
    }
   ],
   "source": [
    "all_data.OutcomeType.value_counts()"
   ]
  },
  {
   "cell_type": "code",
   "execution_count": 7,
   "metadata": {
    "scrolled": false
   },
   "outputs": [
    {
     "data": {
      "text/plain": [
       "AnimalID              0\n",
       "Name               7691\n",
       "DateTime              0\n",
       "OutcomeType           0\n",
       "OutcomeSubtype    13612\n",
       "AnimalType            0\n",
       "SexuponOutcome        1\n",
       "AgeuponOutcome       18\n",
       "Breed                 0\n",
       "Color                 0\n",
       "dtype: int64"
      ]
     },
     "execution_count": 7,
     "metadata": {},
     "output_type": "execute_result"
    }
   ],
   "source": [
    "all_data.isna().sum()"
   ]
  },
  {
   "cell_type": "code",
   "execution_count": 8,
   "metadata": {},
   "outputs": [],
   "source": [
    "all_data['SexuponOutcome'] =all_data['SexuponOutcome'].fillna(\"Neutered Male\")"
   ]
  },
  {
   "cell_type": "code",
   "execution_count": 9,
   "metadata": {},
   "outputs": [],
   "source": [
    "del all_data[\"AnimalID\"]\n",
    "del all_data[\"OutcomeSubtype\"]"
   ]
  },
  {
   "cell_type": "code",
   "execution_count": 10,
   "metadata": {},
   "outputs": [],
   "source": [
    "# make a column if the name is known or not\n",
    "all_data['Name'] =all_data['Name'].fillna(0)\n",
    "all_data.loc[all_data['Name'] != 0, \"Name\"] = 1\n",
    "\n",
    "all_data.loc[all_data[\"AnimalType\"]== \"Dog\", \"AnimalType\"] = 1\n",
    "all_data.loc[all_data[\"AnimalType\"]!= 1, \"AnimalType\"] = 0"
   ]
  },
  {
   "cell_type": "code",
   "execution_count": 11,
   "metadata": {},
   "outputs": [],
   "source": [
    "# Let's create \"Day_of_week\" and \"Hour\" columns:\n",
    "all_data['Hour'] = all_data.DateTime.map( lambda x: pd.to_datetime(x).hour )\n",
    "all_data['Day_of_Week'] = all_data.DateTime.map( lambda x: pd.to_datetime(x).dayofweek )"
   ]
  },
  {
   "cell_type": "code",
   "execution_count": 12,
   "metadata": {},
   "outputs": [
    {
     "data": {
      "text/plain": [
       "<matplotlib.axes._subplots.AxesSubplot at 0x1a2660a860>"
      ]
     },
     "execution_count": 12,
     "metadata": {},
     "output_type": "execute_result"
    },
    {
     "data": {
      "image/png": "[encoded data removed]",
      "text/plain": [
       "<Figure size 432x288 with 1 Axes>"
      ]
     },
     "metadata": {
      "needs_background": "light"
     },
     "output_type": "display_data"
    }
   ],
   "source": [
    "import seaborn as sns\n",
    "%matplotlib inline\n",
    "\n",
    "sns.countplot(data=all_data, x='Day_of_Week',hue=\"OutcomeType\", palette = \"Set3\")"
   ]
  },
  {
   "cell_type": "code",
   "execution_count": 13,
   "metadata": {},
   "outputs": [],
   "source": [
    "# \"5\" and \"6\" means \"Suturday\" and \"Sunday\". The animals are more likely adopted at Weekends! \n",
    "# Thus, I am replacing 5 and 6 by 1, and other numbers by 0\n",
    "all_data.loc[all_data[\"Day_of_Week\"]== 5, \"Day_of_Week\"] = 10\n",
    "all_data.loc[all_data[\"Day_of_Week\"]== 6, \"Day_of_Week\"] = 10\n",
    "all_data.loc[all_data[\"Day_of_Week\"]!= 10, \"Day_of_Week\"] = 0\n",
    "all_data.loc[all_data[\"Day_of_Week\"]== 10, \"Day_of_Week\"] = 1"
   ]
  },
  {
   "cell_type": "code",
   "execution_count": 14,
   "metadata": {},
   "outputs": [
    {
     "data": {
      "text/plain": [
       "<matplotlib.axes._subplots.AxesSubplot at 0x1a26833550>"
      ]
     },
     "execution_count": 14,
     "metadata": {},
     "output_type": "execute_result"
    },
    {
     "data": {
      "image/png": "[encoded data removed]",
      "text/plain": [
       "<Figure size 432x288 with 1 Axes>"
      ]
     },
     "metadata": {
      "needs_background": "light"
     },
     "output_type": "display_data"
    }
   ],
   "source": [
    "sns.countplot(data=all_data, x='Hour',hue=\"OutcomeType\", palette = \"Set3\")"
   ]
  },
  {
   "cell_type": "markdown",
   "metadata": {},
   "source": [
    "It is interesting! The animal are adopted more likely at 16-19 and 7-8; transfered at 0, 9, 12-15. Thus, I am going to create features: 16and19, 17and18, 7and8, 9, 0, 12and13, 14and15, other_time."
   ]
  },
  {
   "cell_type": "code",
   "execution_count": 15,
   "metadata": {},
   "outputs": [],
   "source": [
    "def day(x):\n",
    "    if x == 16 or x == 19:\n",
    "        x = \"16and19\"\n",
    "    elif x == 17 or x == 18:\n",
    "        x = \"17and18\"\n",
    "    elif x == 7 or x == 8:\n",
    "        x = \"7and8\"\n",
    "    elif x == 12 or x == 13:\n",
    "        x = \"12and13\"\n",
    "    elif x == 14 or x == 15:\n",
    "        x = \"14and15\"\n",
    "    elif x == 9:\n",
    "        x = \"9\"\n",
    "    elif x == 0:\n",
    "        x = \"0\"\n",
    "    else:\n",
    "        x = \"other_time\"\n",
    "    return x\n",
    "       \n",
    "all_data['Hour'] = all_data.Hour.apply(day)"
   ]
  },
  {
   "cell_type": "code",
   "execution_count": 16,
   "metadata": {},
   "outputs": [],
   "source": [
    "def age_as_float(x):\n",
    "    x = str(x)\n",
    "    x_list = x.split(\" \")\n",
    "    if len(x_list)==2:\n",
    "        if x_list[1] =='year': return 1.0\n",
    "        elif x_list[1] =='years': return float(x_list[0])\n",
    "        elif x_list[1] =='month': return float(x_list[0])/12\n",
    "        elif x_list[1] =='months': return float(x_list[0])/12\n",
    "        elif x_list[1] =='week': return float(x_list[0])\n",
    "        elif x_list[1] =='weeks': return float(x_list[0])/54\n",
    "        elif x_list[1] =='days': return float(x_list[0])/365\n",
    "        else: return 0\n",
    "    else:return 0\n",
    "\n",
    "all_data['AgeuponOutcome'] = all_data.AgeuponOutcome.apply(age_as_float)\n",
    "#now we have 0 age for the animals with undefined age. Let's replace 0 by mean age:\n",
    "all_data.loc[all_data['AgeuponOutcome']== 0, \"AgeuponOutcome\"] = all_data['AgeuponOutcome'].median()"
   ]
  },
  {
   "cell_type": "code",
   "execution_count": 17,
   "metadata": {},
   "outputs": [],
   "source": [
    "#I used tutorial from https://www.dataquest.io/learn\n",
    "def create_dummies(var):\n",
    "    var_unique = var.unique()\n",
    "    var_unique.sort()\n",
    "    dummy = pd.DataFrame()\n",
    "    for val in var_unique:\n",
    "    #for val in var_unique[:-1]:\n",
    "        # which columns are equal to our unique value\n",
    "        d = var == val\n",
    "        # make a new column with a dummy variable\n",
    "        dummy[var.name + \"_\" + str(val)] = d.astype(int)\n",
    "    return(dummy)\n",
    "\n",
    "sex_dummies = create_dummies(all_data[\"SexuponOutcome\"])\n",
    "data = pd.concat([all_data, sex_dummies], axis=1)\n",
    "del all_data[\"SexuponOutcome\"]\n",
    "\n",
    "hour = create_dummies(all_data[\"Hour\"])\n",
    "all_data = pd.concat([all_data, hour], axis=1)\n",
    "del all_data[\"Hour\"]"
   ]
  },
  {
   "cell_type": "code",
   "execution_count": 18,
   "metadata": {},
   "outputs": [],
   "source": [
    "items_counts = data['Breed'].value_counts()\n",
    "# we are going to work with breeds with count > 150. Also, I am going to add \"Boxer\" and \"Pit Bull\" to my list since this dogs can be agressive."
   ]
  },
  {
   "cell_type": "code",
   "execution_count": 19,
   "metadata": {},
   "outputs": [],
   "source": [
    "to_my_breads = all_data['Breed'].value_counts() > 150"
   ]
  },
  {
   "cell_type": "code",
   "execution_count": 20,
   "metadata": {},
   "outputs": [
    {
     "data": {
      "text/plain": [
       "Domestic Shorthair Mix       8810\n",
       "Pit Bull Mix                 1906\n",
       "Chihuahua Shorthair Mix      1766\n",
       "Labrador Retriever Mix       1363\n",
       "Domestic Medium Hair Mix      839\n",
       "German Shepherd Mix           575\n",
       "Domestic Longhair Mix         520\n",
       "Siamese Mix                   389\n",
       "Australian Cattle Dog Mix     367\n",
       "Dachshund Mix                 318\n",
       "Boxer Mix                     245\n",
       "Miniature Poodle Mix          233\n",
       "Border Collie Mix             229\n",
       "Australian Shepherd Mix       163\n",
       "Rat Terrier Mix               157\n",
       "Catahoula Mix                 157\n",
       "Name: Breed, dtype: int64"
      ]
     },
     "execution_count": 20,
     "metadata": {},
     "output_type": "execute_result"
    }
   ],
   "source": [
    "items_counts[to_my_breads]"
   ]
  },
  {
   "cell_type": "code",
   "execution_count": 21,
   "metadata": {},
   "outputs": [],
   "source": [
    "my_breeds = [\"Domestic Shorthair\", \"Chihuahua Shorthair\", \"Labrador Retriever\", \n",
    "             \"Domestic Medium Hair\", \"German Shepherd\", \"Domestic Longhair\", \"Siamese\", \"Australian Cattle Dog\", \n",
    "             \"Dachshund\", \"Miniature Poodle\", \"Border Collie\",\"Australian Shepherd\", \"Rat Terrier\", \"Catahoula\", \n",
    "              \"Husky\", \"Rottweiler\", \"Bulldog\", \"Pit Bull\", \"Boxer\"]"
   ]
  },
  {
   "cell_type": "code",
   "execution_count": 22,
   "metadata": {},
   "outputs": [],
   "source": [
    "import re\n",
    "def breeds(x):\n",
    "    x = str(x)\n",
    "    breed = \"other\"\n",
    "    for b in my_breeds:\n",
    "        if re.search(b, x):\n",
    "            breed = b\n",
    "    return breed\n",
    "all_data['My_Breeds'] = all_data.Breed.apply(breeds)"
   ]
  },
  {
   "cell_type": "code",
   "execution_count": 23,
   "metadata": {},
   "outputs": [],
   "source": [
    "breed_dummies = create_dummies(all_data[\"My_Breeds\"])\n",
    "all_data = pd.concat([all_data, breed_dummies], axis=1)\n",
    "del all_data[\"My_Breeds\"]\n",
    "del all_data[\"Breed\"]"
   ]
  },
  {
   "cell_type": "code",
   "execution_count": 24,
   "metadata": {},
   "outputs": [
    {
     "name": "stdout",
     "output_type": "stream",
     "text": [
      "['Name', 'DateTime', 'OutcomeType', 'AnimalType', 'AgeuponOutcome', 'Color', 'Day_of_Week', 'Hour_0', 'Hour_12and13', 'Hour_14and15', 'Hour_16and19', 'Hour_17and18', 'Hour_7and8', 'Hour_9', 'Hour_other_time', 'My_Breeds_Australian Cattle Dog', 'My_Breeds_Australian Shepherd', 'My_Breeds_Border Collie', 'My_Breeds_Boxer', 'My_Breeds_Bulldog', 'My_Breeds_Catahoula', 'My_Breeds_Chihuahua Shorthair', 'My_Breeds_Dachshund', 'My_Breeds_Domestic Longhair', 'My_Breeds_Domestic Medium Hair', 'My_Breeds_Domestic Shorthair', 'My_Breeds_German Shepherd', 'My_Breeds_Husky', 'My_Breeds_Labrador Retriever', 'My_Breeds_Miniature Poodle', 'My_Breeds_Pit Bull', 'My_Breeds_Rat Terrier', 'My_Breeds_Rottweiler', 'My_Breeds_Siamese', 'My_Breeds_other']\n"
     ]
    }
   ],
   "source": [
    "features = all_data.columns.tolist() \n",
    "print(features)"
   ]
  },
  {
   "cell_type": "code",
   "execution_count": 25,
   "metadata": {},
   "outputs": [],
   "source": [
    "features.remove(\"DateTime\")\n",
    "features.remove(\"OutcomeType\")\n",
    "features.remove(\"Color\")"
   ]
  },
  {
   "cell_type": "code",
   "execution_count": 26,
   "metadata": {},
   "outputs": [],
   "source": [
    "# random shift\n",
    "all_data = all_data.sample(frac=1)"
   ]
  },
  {
   "cell_type": "code",
   "execution_count": 27,
   "metadata": {},
   "outputs": [
    {
     "data": {
      "text/html": [
       "<div>\n",
       "<style scoped>\n",
       "    .dataframe tbody tr th:only-of-type {\n",
       "        vertical-align: middle;\n",
       "    }\n",
       "\n",
       "    .dataframe tbody tr th {\n",
       "        vertical-align: top;\n",
       "    }\n",
       "\n",
       "    .dataframe thead th {\n",
       "        text-align: right;\n",
       "    }\n",
       "</style>\n",
       "<table border=\"1\" class=\"dataframe\">\n",
       "  <thead>\n",
       "    <tr style=\"text-align: right;\">\n",
       "      <th></th>\n",
       "      <th>Name</th>\n",
       "      <th>DateTime</th>\n",
       "      <th>OutcomeType</th>\n",
       "      <th>AnimalType</th>\n",
       "      <th>AgeuponOutcome</th>\n",
       "      <th>Color</th>\n",
       "      <th>Day_of_Week</th>\n",
       "      <th>Hour_0</th>\n",
       "      <th>Hour_12and13</th>\n",
       "      <th>Hour_14and15</th>\n",
       "      <th>...</th>\n",
       "      <th>My_Breeds_Domestic Shorthair</th>\n",
       "      <th>My_Breeds_German Shepherd</th>\n",
       "      <th>My_Breeds_Husky</th>\n",
       "      <th>My_Breeds_Labrador Retriever</th>\n",
       "      <th>My_Breeds_Miniature Poodle</th>\n",
       "      <th>My_Breeds_Pit Bull</th>\n",
       "      <th>My_Breeds_Rat Terrier</th>\n",
       "      <th>My_Breeds_Rottweiler</th>\n",
       "      <th>My_Breeds_Siamese</th>\n",
       "      <th>My_Breeds_other</th>\n",
       "    </tr>\n",
       "  </thead>\n",
       "  <tbody>\n",
       "    <tr>\n",
       "      <th>5919</th>\n",
       "      <td>0</td>\n",
       "      <td>2014-06-19 17:11:00</td>\n",
       "      <td>Transfer</td>\n",
       "      <td>1</td>\n",
       "      <td>0.166667</td>\n",
       "      <td>Black/Tan</td>\n",
       "      <td>0</td>\n",
       "      <td>0</td>\n",
       "      <td>0</td>\n",
       "      <td>0</td>\n",
       "      <td>...</td>\n",
       "      <td>0</td>\n",
       "      <td>0</td>\n",
       "      <td>0</td>\n",
       "      <td>1</td>\n",
       "      <td>0</td>\n",
       "      <td>0</td>\n",
       "      <td>0</td>\n",
       "      <td>0</td>\n",
       "      <td>0</td>\n",
       "      <td>0</td>\n",
       "    </tr>\n",
       "    <tr>\n",
       "      <th>11553</th>\n",
       "      <td>1</td>\n",
       "      <td>2014-07-13 07:59:00</td>\n",
       "      <td>Adoption</td>\n",
       "      <td>0</td>\n",
       "      <td>0.250000</td>\n",
       "      <td>Tortie</td>\n",
       "      <td>1</td>\n",
       "      <td>0</td>\n",
       "      <td>0</td>\n",
       "      <td>0</td>\n",
       "      <td>...</td>\n",
       "      <td>1</td>\n",
       "      <td>0</td>\n",
       "      <td>0</td>\n",
       "      <td>0</td>\n",
       "      <td>0</td>\n",
       "      <td>0</td>\n",
       "      <td>0</td>\n",
       "      <td>0</td>\n",
       "      <td>0</td>\n",
       "      <td>0</td>\n",
       "    </tr>\n",
       "    <tr>\n",
       "      <th>22933</th>\n",
       "      <td>1</td>\n",
       "      <td>2015-12-10 16:58:00</td>\n",
       "      <td>Transfer</td>\n",
       "      <td>1</td>\n",
       "      <td>0.500000</td>\n",
       "      <td>Black</td>\n",
       "      <td>0</td>\n",
       "      <td>0</td>\n",
       "      <td>0</td>\n",
       "      <td>0</td>\n",
       "      <td>...</td>\n",
       "      <td>0</td>\n",
       "      <td>0</td>\n",
       "      <td>0</td>\n",
       "      <td>0</td>\n",
       "      <td>0</td>\n",
       "      <td>1</td>\n",
       "      <td>0</td>\n",
       "      <td>0</td>\n",
       "      <td>0</td>\n",
       "      <td>0</td>\n",
       "    </tr>\n",
       "    <tr>\n",
       "      <th>13770</th>\n",
       "      <td>1</td>\n",
       "      <td>2014-04-26 15:40:00</td>\n",
       "      <td>Adoption</td>\n",
       "      <td>0</td>\n",
       "      <td>7.000000</td>\n",
       "      <td>Black</td>\n",
       "      <td>1</td>\n",
       "      <td>0</td>\n",
       "      <td>0</td>\n",
       "      <td>1</td>\n",
       "      <td>...</td>\n",
       "      <td>1</td>\n",
       "      <td>0</td>\n",
       "      <td>0</td>\n",
       "      <td>0</td>\n",
       "      <td>0</td>\n",
       "      <td>0</td>\n",
       "      <td>0</td>\n",
       "      <td>0</td>\n",
       "      <td>0</td>\n",
       "      <td>0</td>\n",
       "    </tr>\n",
       "    <tr>\n",
       "      <th>17558</th>\n",
       "      <td>1</td>\n",
       "      <td>2015-08-03 15:02:00</td>\n",
       "      <td>Euthanasia</td>\n",
       "      <td>1</td>\n",
       "      <td>1.000000</td>\n",
       "      <td>Yellow/White</td>\n",
       "      <td>0</td>\n",
       "      <td>0</td>\n",
       "      <td>0</td>\n",
       "      <td>1</td>\n",
       "      <td>...</td>\n",
       "      <td>0</td>\n",
       "      <td>0</td>\n",
       "      <td>0</td>\n",
       "      <td>1</td>\n",
       "      <td>0</td>\n",
       "      <td>0</td>\n",
       "      <td>0</td>\n",
       "      <td>0</td>\n",
       "      <td>0</td>\n",
       "      <td>0</td>\n",
       "    </tr>\n",
       "  </tbody>\n",
       "</table>\n",
       "<p>5 rows × 35 columns</p>\n",
       "</div>"
      ],
      "text/plain": [
       "      Name             DateTime OutcomeType AnimalType  AgeuponOutcome  \\\n",
       "5919     0  2014-06-19 17:11:00    Transfer          1        0.166667   \n",
       "11553    1  2014-07-13 07:59:00    Adoption          0        0.250000   \n",
       "22933    1  2015-12-10 16:58:00    Transfer          1        0.500000   \n",
       "13770    1  2014-04-26 15:40:00    Adoption          0        7.000000   \n",
       "17558    1  2015-08-03 15:02:00  Euthanasia          1        1.000000   \n",
       "\n",
       "              Color  Day_of_Week  Hour_0  Hour_12and13  Hour_14and15  \\\n",
       "5919      Black/Tan            0       0             0             0   \n",
       "11553        Tortie            1       0             0             0   \n",
       "22933         Black            0       0             0             0   \n",
       "13770         Black            1       0             0             1   \n",
       "17558  Yellow/White            0       0             0             1   \n",
       "\n",
       "            ...         My_Breeds_Domestic Shorthair  \\\n",
       "5919        ...                                    0   \n",
       "11553       ...                                    1   \n",
       "22933       ...                                    0   \n",
       "13770       ...                                    1   \n",
       "17558       ...                                    0   \n",
       "\n",
       "       My_Breeds_German Shepherd  My_Breeds_Husky  \\\n",
       "5919                           0                0   \n",
       "11553                          0                0   \n",
       "22933                          0                0   \n",
       "13770                          0                0   \n",
       "17558                          0                0   \n",
       "\n",
       "       My_Breeds_Labrador Retriever  My_Breeds_Miniature Poodle  \\\n",
       "5919                              1                           0   \n",
       "11553                             0                           0   \n",
       "22933                             0                           0   \n",
       "13770                             0                           0   \n",
       "17558                             1                           0   \n",
       "\n",
       "       My_Breeds_Pit Bull  My_Breeds_Rat Terrier  My_Breeds_Rottweiler  \\\n",
       "5919                    0                      0                     0   \n",
       "11553                   0                      0                     0   \n",
       "22933                   1                      0                     0   \n",
       "13770                   0                      0                     0   \n",
       "17558                   0                      0                     0   \n",
       "\n",
       "       My_Breeds_Siamese  My_Breeds_other  \n",
       "5919                   0                0  \n",
       "11553                  0                0  \n",
       "22933                  0                0  \n",
       "13770                  0                0  \n",
       "17558                  0                0  \n",
       "\n",
       "[5 rows x 35 columns]"
      ]
     },
     "execution_count": 27,
     "metadata": {},
     "output_type": "execute_result"
    }
   ],
   "source": [
    "all_data.head()"
   ]
  },
  {
   "cell_type": "code",
   "execution_count": 28,
   "metadata": {},
   "outputs": [],
   "source": [
    "seed = 7\n",
    "\n",
    "X = all_data[features]\n",
    "y = all_data.OutcomeType\n",
    "\n",
    "X_train, X_test, y_train, y_test = train_test_split(X, y, test_size=0.2, random_state=seed)"
   ]
  },
  {
   "cell_type": "code",
   "execution_count": 29,
   "metadata": {},
   "outputs": [
    {
     "data": {
      "text/plain": [
       "(21383, 32)"
      ]
     },
     "execution_count": 29,
     "metadata": {},
     "output_type": "execute_result"
    }
   ],
   "source": [
    "X_train.shape"
   ]
  },
  {
   "cell_type": "markdown",
   "metadata": {},
   "source": [
    "## Decision Trees"
   ]
  },
  {
   "cell_type": "markdown",
   "metadata": {},
   "source": [
    "Decision Trees. For the decision tree, you should implement or steal a decision tree algorithm (and by \"implement or steal\" I mean \"steal\"). Be sure to use some form of pruning. You are not required to use information gain (for example, there is something called the GINI index that is sometimes used) to split attributes, but you should describe whatever it is that you do use."
   ]
  },
  {
   "cell_type": "code",
   "execution_count": 30,
   "metadata": {},
   "outputs": [],
   "source": [
    "from sklearn.tree import DecisionTreeClassifier\n",
    "from sklearn.model_selection import cross_val_score\n",
    "import numpy as np\n",
    "from sklearn.metrics import accuracy_score"
   ]
  },
  {
   "cell_type": "code",
   "execution_count": 59,
   "metadata": {},
   "outputs": [
    {
     "name": "stdout",
     "output_type": "stream",
     "text": [
      "max_depth:  5\n",
      " min_samples_split:  2  accuracy:  0.6012155212716223\n",
      " min_samples_split:  8  accuracy:  0.6012155212716223\n",
      " min_samples_split:  20  accuracy:  0.6012155212716223\n",
      " min_samples_split:  100  accuracy:  0.6012155212716223\n",
      "max_depth:  10\n",
      " min_samples_split:  2  accuracy:  0.6294736842105263\n",
      " min_samples_split:  8  accuracy:  0.6301754385964913\n",
      " min_samples_split:  20  accuracy:  0.6266666666666667\n",
      " min_samples_split:  100  accuracy:  0.6266666666666667\n",
      "max_depth:  15\n",
      " min_samples_split:  2  accuracy:  0.6093567251461989\n",
      " min_samples_split:  8  accuracy:  0.6128654970760234\n",
      " min_samples_split:  20  accuracy:  0.615906432748538\n",
      " min_samples_split:  100  accuracy:  0.6224561403508772\n",
      "max_depth:  25\n",
      " min_samples_split:  2  accuracy:  0.5944366526414212\n",
      " min_samples_split:  8  accuracy:  0.6026180458158018\n",
      " min_samples_split:  20  accuracy:  0.6091631603553063\n",
      " min_samples_split:  100  accuracy:  0.6175783076203833\n",
      "max_depth:  40\n",
      " min_samples_split:  2  accuracy:  0.5946198830409357\n",
      " min_samples_split:  8  accuracy:  0.6002805049088359\n",
      " min_samples_split:  20  accuracy:  0.6082281439925199\n",
      " min_samples_split:  100  accuracy:  0.6175783076203833\n"
     ]
    }
   ],
   "source": [
    "# in sklearn we can use the maximum depth of the tree for pruning \n",
    "# and The minimum number of samples required to split an internal node\n",
    "\n",
    "max_depth = [5, 10, 15, 25, 40]\n",
    "min_samples_split = [2,8,20, 100]\n",
    "\n",
    "for m in max_depth:\n",
    "    print(\"max_depth: \", m)\n",
    "    for n in min_samples_split:\n",
    "        clf = DecisionTreeClassifier(random_state=0, max_depth=m, min_samples_split=n) # by defauld the model use GINI\n",
    "        scores = cross_val_score(clf, X_train, y_train, cv=5, scoring='accuracy')\n",
    "        print(\" min_samples_split: \", n, \" accuracy: \", np.median(scores))"
   ]
  },
  {
   "cell_type": "code",
   "execution_count": 60,
   "metadata": {},
   "outputs": [
    {
     "name": "stdout",
     "output_type": "stream",
     "text": [
      "Training accuracy:  0.6537436281157929\n",
      "Testing accuracy:  0.6264496820052375\n"
     ]
    }
   ],
   "source": [
    "# predict on the test data using the best parameters\n",
    "clf = DecisionTreeClassifier(random_state=0, max_depth=10, min_samples_split=8)\n",
    "clf.fit(X_train, y_train)\n",
    "print(\"Training accuracy: \", accuracy_score(y_train, clf.predict(X_train)))\n",
    "pr = clf.predict(X_test)\n",
    "print(\"Testing accuracy: \", accuracy_score(y_test, pr))"
   ]
  },
  {
   "cell_type": "code",
   "execution_count": 61,
   "metadata": {},
   "outputs": [
    {
     "name": "stdout",
     "output_type": "stream",
     "text": [
      "[0.25308907401019487, 0.073187230315976, 0.33279237415188634, 0.04693678484154791, 0.021640798495063833, 0.006410928167108715, 0.006898068476748525, 0.01700236416053026, 0.12826280257899783, 0.007301553332353222, 0.03182716633603703, 0.016404530444867164, 0.002647312440714663, 0.0030690100945930943, 0.0021216084827929524, 0.0008225085824062259, 0.0008897709448819758, 0.0007039590291126499, 0.004105104075576025, 0.004222039397633536, 0.001693903047176416, 0.0027587593556377427, 0.0031766773134669583, 0.0013952713455404936, 0.0009336362651602868, 0.0020342221263102765, 0.001965559965172224, 0.012989022586951289, 0.0009473669516310184, 0.0015529595193614289, 0.0038303418601803576, 0.006387291304388727]\n"
     ]
    }
   ],
   "source": [
    "print(list(clf.feature_importances_))"
   ]
  },
  {
   "cell_type": "markdown",
   "metadata": {},
   "source": [
    "###  Learning curves "
   ]
  },
  {
   "cell_type": "code",
   "execution_count": 34,
   "metadata": {},
   "outputs": [],
   "source": [
    "import matplotlib.pyplot as plt\n",
    "%matplotlib inline\n",
    "from sklearn.model_selection import learning_curve"
   ]
  },
  {
   "cell_type": "code",
   "execution_count": 66,
   "metadata": {},
   "outputs": [
    {
     "data": {
      "image/png": "[encoded data removed]",
      "text/plain": [
       "<Figure size 432x288 with 1 Axes>"
      ]
     },
     "metadata": {
      "needs_background": "light"
     },
     "output_type": "display_data"
    }
   ],
   "source": [
    "# I used this blog: https://chrisalbon.com/machine_learning/model_evaluation/plot_the_learning_curve/\n",
    "\n",
    "# Create CV training and test scores for various training set sizes\n",
    "train_sizes, train_scores, test_scores = learning_curve(DecisionTreeClassifier(random_state=0, max_depth=10, min_samples_split=8), \n",
    "                                                        X_train, \n",
    "                                                        y_train,\n",
    "                                                        cv=5,\n",
    "                                                        scoring='accuracy',\n",
    "                                                        # Use all computer cores\n",
    "                                                        n_jobs=-1, \n",
    "                                                        # 50 different sizes of the training set\n",
    "                                                        train_sizes=np.linspace(0.01, 1.0, 50))\n",
    "\n",
    "# Create means and standard deviations of training set scores\n",
    "train_mean = np.mean(train_scores, axis=1)\n",
    "train_std = np.std(train_scores, axis=1)\n",
    "\n",
    "# Create means and standard deviations of test set scores\n",
    "test_mean = np.mean(test_scores, axis=1)\n",
    "test_std = np.std(test_scores, axis=1)\n",
    "\n",
    "# Draw lines\n",
    "plt.plot(train_sizes, train_mean, '--', color=\"#111111\",  label=\"Training score\")\n",
    "plt.plot(train_sizes, test_mean, color=\"#111111\", label=\"Cross-validation score\")\n",
    "\n",
    "# Draw bands\n",
    "plt.fill_between(train_sizes, train_mean - train_std, train_mean + train_std, color=\"#DDDDDD\")\n",
    "plt.fill_between(train_sizes, test_mean - test_std, test_mean + test_std, color=\"#DDDDDD\")\n",
    "\n",
    "# Create plot\n",
    "plt.title(\"Learning Curve: traing vs crossvalidation error\")\n",
    "plt.xlabel(\"Training Set Size\"), plt.ylabel(\"Accuracy Score\"), plt.legend(loc=\"best\")\n",
    "plt.tight_layout()\n",
    "plt.show()"
   ]
  },
  {
   "cell_type": "code",
   "execution_count": 67,
   "metadata": {},
   "outputs": [],
   "source": [
    "tr_size = np.linspace(0.01, 1.0, 50)\n",
    "size = []\n",
    "tr_accuracy = []\n",
    "test_accuracy = []\n",
    "n_tr_samples = X_train.shape[0]\n",
    "for t in tr_size:\n",
    "    clf = DecisionTreeClassifier(random_state=0, max_depth=10, min_samples_split=8)\n",
    "    clf.fit(X_train[ :int(n_tr_samples*t)], y_train[ :int(n_tr_samples*t)])\n",
    "    size.append(int(n_tr_samples*t))\n",
    "    t = accuracy_score(y_train[ :int(n_tr_samples*t)],clf.predict(X_train[ :int(n_tr_samples*t)]) )\n",
    "    tr_accuracy.append(t)\n",
    "    test_accuracy.append(accuracy_score(y_test, clf.predict(X_test)))"
   ]
  },
  {
   "cell_type": "code",
   "execution_count": 68,
   "metadata": {},
   "outputs": [
    {
     "data": {
      "image/png": "[encoded data removed]",
      "text/plain": [
       "<Figure size 432x288 with 1 Axes>"
      ]
     },
     "metadata": {
      "needs_background": "light"
     },
     "output_type": "display_data"
    }
   ],
   "source": [
    "# Draw lines\n",
    "plt.plot(tr_size, tr_accuracy, '--', color=\"#111111\",  label=\"Training accuracy\")\n",
    "plt.plot(tr_size, test_accuracy, color=\"#111111\", label=\"Testing accuracy\")\n",
    "\n",
    "# Create plot\n",
    "plt.title(\"Learning Curve\")\n",
    "plt.xlabel(\"Training Set Size\"), plt.ylabel(\"Accuracy Score\"), plt.legend(loc=\"best\")\n",
    "plt.tight_layout()\n",
    "plt.show()"
   ]
  },
  {
   "cell_type": "markdown",
   "metadata": {},
   "source": [
    "## Neural Networks"
   ]
  },
  {
   "cell_type": "markdown",
   "metadata": {},
   "source": [
    "Neural Networks. For the neural network you should implement or steal your favorite kind of network and training algorithm. You may use networks of nodes with as many layers as you like and any activation function you see fit."
   ]
  },
  {
   "cell_type": "code",
   "execution_count": 54,
   "metadata": {},
   "outputs": [],
   "source": [
    "# I used this model: https://scikit-learn.org/stable/modules/neural_networks_supervised.html\n",
    "from sklearn.neural_network import MLPClassifier"
   ]
  },
  {
   "cell_type": "code",
   "execution_count": 71,
   "metadata": {},
   "outputs": [
    {
     "name": "stdout",
     "output_type": "stream",
     "text": [
      " layer_1:  5 layer_2:  5  accuracy:  0.6023842917251052\n",
      " layer_1:  5 layer_2:  10  accuracy:  0.5950934579439252\n",
      " layer_1:  5 layer_2:  50  accuracy:  0.612669471715755\n",
      " layer_1:  5 layer_2:  100  accuracy:  0.6084618980832165\n",
      " layer_1:  5 layer_2:  200  accuracy:  0.6077102803738318\n",
      " layer_1:  10 layer_2:  5  accuracy:  0.6114619883040936\n",
      " layer_1:  10 layer_2:  10  accuracy:  0.6262272089761571\n",
      " layer_1:  10 layer_2:  50  accuracy:  0.6323048153342683\n",
      " layer_1:  10 layer_2:  100  accuracy:  0.6299672744273025\n",
      " layer_1:  10 layer_2:  200  accuracy:  0.6313450292397661\n",
      " layer_1:  50 layer_2:  5  accuracy:  0.6086549707602339\n",
      " layer_1:  50 layer_2:  10  accuracy:  0.6285380116959064\n",
      " layer_1:  50 layer_2:  50  accuracy:  0.6327723235156615\n",
      " layer_1:  50 layer_2:  100  accuracy:  0.6367251461988304\n",
      " layer_1:  50 layer_2:  200  accuracy:  0.634174848059841\n",
      " layer_1:  100 layer_2:  5  accuracy:  0.6332398316970547\n",
      " layer_1:  100 layer_2:  10  accuracy:  0.6339181286549708\n",
      " layer_1:  100 layer_2:  50  accuracy:  0.6325146198830409\n",
      " layer_1:  100 layer_2:  100  accuracy:  0.6378947368421053\n",
      " layer_1:  100 layer_2:  200  accuracy:  0.6323048153342683\n",
      " layer_1:  200 layer_2:  5  accuracy:  0.6217543859649123\n",
      " layer_1:  200 layer_2:  10  accuracy:  0.6264327485380117\n",
      " layer_1:  200 layer_2:  50  accuracy:  0.6301754385964913\n",
      " layer_1:  200 layer_2:  100  accuracy:  0.6348761103319308\n",
      " layer_1:  200 layer_2:  200  accuracy:  0.6257309941520468\n"
     ]
    }
   ],
   "source": [
    "layer_1 = [5, 10, 50, 100, 200]\n",
    "layer_2 = [5, 10, 50, 100, 200]\n",
    "\n",
    "for i in layer_1:\n",
    "    for j in layer_2:\n",
    "        #hidden_layer_sizes:  The ith element represents the number of neurons in the ith hidden layer.\n",
    "        clf = MLPClassifier(solver='lbfgs', alpha=1e-5, hidden_layer_sizes=(i, j), random_state=1) \n",
    "        scores = cross_val_score(clf, X_train, y_train, cv=5, scoring='accuracy')\n",
    "        print(\" layer_1: \", i, \"layer_2: \", j,  \" accuracy: \", np.median(scores))"
   ]
  },
  {
   "cell_type": "code",
   "execution_count": 72,
   "metadata": {},
   "outputs": [
    {
     "data": {
      "image/png": "[encoded data removed]",
      "text/plain": [
       "<Figure size 432x288 with 1 Axes>"
      ]
     },
     "metadata": {
      "needs_background": "light"
     },
     "output_type": "display_data"
    }
   ],
   "source": [
    "tr_size = np.linspace(0.01, 1.0, 50)\n",
    "size = []\n",
    "tr_accuracy = []\n",
    "test_accuracy = []\n",
    "n_tr_samples = X_train.shape[0]\n",
    "for t in tr_size:\n",
    "    clf = MLPClassifier(solver='lbfgs', alpha=1e-5, hidden_layer_sizes=(10,50), random_state=1) \n",
    "    clf.fit(X_train[ :int(n_tr_samples*t)], y_train[ :int(n_tr_samples*t)])\n",
    "    size.append(int(n_tr_samples*t))\n",
    "    t = accuracy_score(y_train[ :int(n_tr_samples*t)],clf.predict(X_train[ :int(n_tr_samples*t)]) )\n",
    "    tr_accuracy.append(t)\n",
    "    test_accuracy.append(accuracy_score(y_test, clf.predict(X_test)))\n",
    "    \n",
    "# Draw lines\n",
    "plt.plot(tr_size, tr_accuracy, '--', color=\"#111111\",  label=\"Training accuracy\")\n",
    "plt.plot(tr_size, test_accuracy, color=\"#111111\", label=\"Testing accuracy\")\n",
    "\n",
    "# Create plot\n",
    "plt.title(\"Learning Curve: Neural Network\")\n",
    "plt.xlabel(\"Training Set Size\"), plt.ylabel(\"Accuracy Score\"), plt.legend(loc=\"best\")\n",
    "plt.tight_layout()\n",
    "plt.show()"
   ]
  },
  {
   "cell_type": "code",
   "execution_count": 57,
   "metadata": {
    "scrolled": true
   },
   "outputs": [
    {
     "data": {
      "image/png": "[encoded data removed]",
      "text/plain": [
       "<Figure size 432x288 with 1 Axes>"
      ]
     },
     "metadata": {
      "needs_background": "light"
     },
     "output_type": "display_data"
    }
   ],
   "source": [
    "n_of_itterations = np.linspace(1, 200, 50)\n",
    "tr_accuracy = []\n",
    "test_accuracy = []\n",
    "n_tr_samples = X_train.shape[0]\n",
    "for t in n_of_itterations:\n",
    "    clf = MLPClassifier(solver='lbfgs', alpha=1e-5, hidden_layer_sizes=(10,50), random_state=1, max_iter = t) \n",
    "    clf.fit(X_train, y_train)\n",
    "    t = accuracy_score(y_train,clf.predict(X_train))\n",
    "    tr_accuracy.append(t)\n",
    "    test_accuracy.append(accuracy_score(y_test, clf.predict(X_test)))\n",
    "    \n",
    "# Draw lines\n",
    "plt.plot(n_of_itterations, tr_accuracy, '--', color=\"#111111\",  label=\"Training accuracy\")\n",
    "plt.plot(n_of_itterations, test_accuracy, color=\"#111111\", label=\"Testing accuracy\")\n",
    "\n",
    "# Create plot\n",
    "plt.title(\"Learning Curve: Neural Network\")\n",
    "plt.xlabel(\"Number of Itterations\"), plt.ylabel(\"Accuracy Score\"), plt.legend(loc=\"best\")\n",
    "plt.tight_layout()\n",
    "plt.show()"
   ]
  },
  {
   "cell_type": "code",
   "execution_count": 74,
   "metadata": {},
   "outputs": [
    {
     "data": {
      "image/png": "[encoded data removed]",
      "text/plain": [
       "<Figure size 432x288 with 1 Axes>"
      ]
     },
     "metadata": {
      "needs_background": "light"
     },
     "output_type": "display_data"
    }
   ],
   "source": [
    "n_of_itterations = np.linspace(1, 400, 50)\n",
    "tr_accuracy = []\n",
    "test_accuracy = []\n",
    "n_tr_samples = X_train.shape[0]\n",
    "for t in n_of_itterations:\n",
    "    clf = MLPClassifier(solver='lbfgs', alpha=1e-5, hidden_layer_sizes=(100,100), random_state=1, max_iter = t) \n",
    "    clf.fit(X_train, y_train)\n",
    "    t = accuracy_score(y_train,clf.predict(X_train))\n",
    "    tr_accuracy.append(t)\n",
    "    test_accuracy.append(accuracy_score(y_test, clf.predict(X_test)))\n",
    "    \n",
    "# Draw lines\n",
    "plt.plot(n_of_itterations, tr_accuracy, '--', color=\"#111111\",  label=\"Training accuracy\")\n",
    "plt.plot(n_of_itterations, test_accuracy, color=\"#111111\", label=\"Testing accuracy\")\n",
    "\n",
    "# Create plot\n",
    "plt.title(\"Learning Curve: Neural Network\")\n",
    "plt.xlabel(\"Number of Itterations\"), plt.ylabel(\"Accuracy Score\"), plt.legend(loc=\"best\")\n",
    "plt.tight_layout()\n",
    "plt.show()"
   ]
  },
  {
   "cell_type": "code",
   "execution_count": 75,
   "metadata": {},
   "outputs": [
    {
     "name": "stdout",
     "output_type": "stream",
     "text": [
      "Training accuracy:  0.6459804517607445\n",
      "Testing accuracy:  0.6386083052749719\n"
     ]
    }
   ],
   "source": [
    "# predict on the test data using the best parameters\n",
    "clf = MLPClassifier(solver='lbfgs', alpha=1e-5, hidden_layer_sizes=(100,100), random_state=1, max_iter =200) \n",
    "clf.fit(X_train, y_train)\n",
    "print(\"Training accuracy: \", accuracy_score(y_train, clf.predict(X_train)))\n",
    "pr = clf.predict(X_test)\n",
    "print(\"Testing accuracy: \", accuracy_score(y_test, pr))"
   ]
  },
  {
   "cell_type": "markdown",
   "metadata": {},
   "source": [
    "## Boosting"
   ]
  },
  {
   "cell_type": "markdown",
   "metadata": {},
   "source": [
    "Boosting. Implement or steal a boosted version of your decision trees. As before, you will want to use some form of pruning, but presumably because you're using boosting you can afford to be much more aggressive about your pruning."
   ]
  },
  {
   "cell_type": "code",
   "execution_count": 60,
   "metadata": {},
   "outputs": [],
   "source": [
    "from sklearn.ensemble import AdaBoostClassifier"
   ]
  },
  {
   "cell_type": "code",
   "execution_count": 61,
   "metadata": {},
   "outputs": [
    {
     "name": "stdout",
     "output_type": "stream",
     "text": [
      " number of estimators:  10 max depth of tree:  1  accuracy:  0.5885928003740065\n",
      " number of estimators:  10 max depth of tree:  10  accuracy:  0.5491937368544052\n",
      " number of estimators:  10 max depth of tree:  25  accuracy:  0.5912596401028277\n",
      " number of estimators:  10 max depth of tree:  40  accuracy:  0.5928955363402664\n",
      " number of estimators:  50 max depth of tree:  1  accuracy:  0.6142155716623802\n",
      " number of estimators:  50 max depth of tree:  10  accuracy:  0.535438596491228\n",
      " number of estimators:  50 max depth of tree:  25  accuracy:  0.5938303341902313\n",
      " number of estimators:  50 max depth of tree:  40  accuracy:  0.5892940626460963\n",
      " number of estimators:  250 max depth of tree:  1  accuracy:  0.6106566954896003\n",
      " number of estimators:  250 max depth of tree:  10  accuracy:  0.4689107059373539\n",
      " number of estimators:  250 max depth of tree:  25  accuracy:  0.5427769985974754\n",
      " number of estimators:  250 max depth of tree:  40  accuracy:  0.5550362234166861\n"
     ]
    }
   ],
   "source": [
    "numb_of_estimators = [10, 50, 250]\n",
    "max_depth_of_tree = [1, 10, 25, 40]\n",
    "\n",
    "for i in numb_of_estimators:\n",
    "    for j in max_depth_of_tree:\n",
    "        clf = AdaBoostClassifier(base_estimator=DecisionTreeClassifier(max_depth=j),n_estimators=i, random_state=1) \n",
    "        scores = cross_val_score(clf, X_train, y_train, cv=5, scoring='accuracy')\n",
    "        print(\" number of estimators: \", i, \"max depth of tree: \", j,  \" accuracy: \", np.median(scores))"
   ]
  },
  {
   "cell_type": "code",
   "execution_count": 62,
   "metadata": {},
   "outputs": [
    {
     "data": {
      "image/png": "[encoded data removed]",
      "text/plain": [
       "<Figure size 432x288 with 1 Axes>"
      ]
     },
     "metadata": {
      "needs_background": "light"
     },
     "output_type": "display_data"
    }
   ],
   "source": [
    "tr_size = np.linspace(0.01, 1.0, 50)\n",
    "size = []\n",
    "tr_accuracy = []\n",
    "test_accuracy = []\n",
    "n_tr_samples = X_train.shape[0]\n",
    "for t in tr_size:\n",
    "    clf = AdaBoostClassifier(base_estimator=DecisionTreeClassifier(max_depth=1),n_estimators=50, random_state=1)\n",
    "    clf.fit(X_train[ :int(n_tr_samples*t)], y_train[ :int(n_tr_samples*t)])\n",
    "    size.append(int(n_tr_samples*t))\n",
    "    t = accuracy_score(y_train[ :int(n_tr_samples*t)],clf.predict(X_train[ :int(n_tr_samples*t)]) )\n",
    "    tr_accuracy.append(t)\n",
    "    test_accuracy.append(accuracy_score(y_test, clf.predict(X_test)))\n",
    "    \n",
    "# Draw lines\n",
    "plt.plot(tr_size, tr_accuracy, '--', color=\"#111111\",  label=\"Training accuracy\")\n",
    "plt.plot(tr_size, test_accuracy, color=\"#111111\", label=\"Testing accuracy\")\n",
    "\n",
    "# Create plot\n",
    "plt.title(\"Learning Curve\")\n",
    "plt.xlabel(\"Training Set Size\"), plt.ylabel(\"Accuracy Score\"), plt.legend(loc=\"best\")\n",
    "plt.tight_layout()\n",
    "plt.show()    "
   ]
  },
  {
   "cell_type": "code",
   "execution_count": 63,
   "metadata": {},
   "outputs": [
    {
     "name": "stdout",
     "output_type": "stream",
     "text": [
      "Training accuracy:  0.6182949071692466\n",
      "Testing accuracy:  0.6126075570520015\n"
     ]
    }
   ],
   "source": [
    "# predict on the test data using the best parameters\n",
    "clf = AdaBoostClassifier(base_estimator=DecisionTreeClassifier(max_depth=1),n_estimators=50, random_state=1)\n",
    "clf.fit(X_train, y_train)\n",
    "print(\"Training accuracy: \", accuracy_score(y_train, clf.predict(X_train)))\n",
    "pr = clf.predict(X_test)\n",
    "print(\"Testing accuracy: \", accuracy_score(y_test, pr))"
   ]
  },
  {
   "cell_type": "markdown",
   "metadata": {},
   "source": [
    "## Support Vector Machine"
   ]
  },
  {
   "cell_type": "markdown",
   "metadata": {},
   "source": [
    "Support Vector Machines. You should implement (for sufficiently loose definitions of implement including \"download\") SVMs. This should be done in such a way that you can swap out kernel functions. I'd like to see at least two."
   ]
  },
  {
   "cell_type": "code",
   "execution_count": 31,
   "metadata": {},
   "outputs": [],
   "source": [
    "from sklearn.svm import SVC"
   ]
  },
  {
   "cell_type": "code",
   "execution_count": 65,
   "metadata": {},
   "outputs": [
    {
     "name": "stdout",
     "output_type": "stream",
     "text": [
      "Training accuracy:  0.5685825188233643\n",
      "Testing accuracy:  0.5720164609053497\n"
     ]
    }
   ],
   "source": [
    "clf = SVC(kernel=\"linear\",random_state=1)\n",
    "clf.fit(X_train, y_train)\n",
    "print(\"Training accuracy: \", accuracy_score(y_train, clf.predict(X_train)))\n",
    "pr = clf.predict(X_test)\n",
    "print(\"Testing accuracy: \", accuracy_score(y_test, pr))"
   ]
  },
  {
   "cell_type": "code",
   "execution_count": 66,
   "metadata": {},
   "outputs": [
    {
     "name": "stdout",
     "output_type": "stream",
     "text": [
      "Training accuracy:  0.5866810082776037\n",
      "Testing accuracy:  0.5914702581369248\n"
     ]
    }
   ],
   "source": [
    "clf = SVC(kernel=\"poly\", degree=2, random_state=1)\n",
    "clf.fit(X_train, y_train)\n",
    "print(\"Training accuracy: \", accuracy_score(y_train, clf.predict(X_train)))\n",
    "pr = clf.predict(X_test)\n",
    "print(\"Testing accuracy: \", accuracy_score(y_test, pr))"
   ]
  },
  {
   "cell_type": "code",
   "execution_count": 67,
   "metadata": {},
   "outputs": [
    {
     "name": "stdout",
     "output_type": "stream",
     "text": [
      "Training accuracy:  0.5691437122948136\n",
      "Testing accuracy:  0.5751964085297419\n"
     ]
    }
   ],
   "source": [
    "clf = SVC(kernel=\"poly\", degree=3, random_state=1)\n",
    "clf.fit(X_train, y_train)\n",
    "print(\"Training accuracy: \", accuracy_score(y_train, clf.predict(X_train)))\n",
    "pr = clf.predict(X_test)\n",
    "print(\"Testing accuracy: \", accuracy_score(y_test, pr))"
   ]
  },
  {
   "cell_type": "code",
   "execution_count": 68,
   "metadata": {},
   "outputs": [
    {
     "name": "stdout",
     "output_type": "stream",
     "text": [
      "Training accuracy:  0.6046859654866015\n",
      "Testing accuracy:  0.6107369996258886\n"
     ]
    }
   ],
   "source": [
    "clf = SVC(kernel=\"rbf\", random_state=1)\n",
    "clf.fit(X_train, y_train)\n",
    "print(\"Training accuracy: \", accuracy_score(y_train, clf.predict(X_train)))\n",
    "pr = clf.predict(X_test)\n",
    "print(\"Testing accuracy: \", accuracy_score(y_test, pr))"
   ]
  },
  {
   "cell_type": "code",
   "execution_count": 69,
   "metadata": {},
   "outputs": [
    {
     "data": {
      "image/png": "[encoded data removed]",
      "text/plain": [
       "<Figure size 432x288 with 1 Axes>"
      ]
     },
     "metadata": {
      "needs_background": "light"
     },
     "output_type": "display_data"
    }
   ],
   "source": [
    "tr_size = np.linspace(0.01, 1.0, 50)\n",
    "size = []\n",
    "tr_accuracy = []\n",
    "test_accuracy = []\n",
    "n_tr_samples = X_train.shape[0]\n",
    "for t in tr_size:\n",
    "    clf =  SVC(kernel=\"rbf\", random_state=1)\n",
    "    clf.fit(X_train[ :int(n_tr_samples*t)], y_train[ :int(n_tr_samples*t)])\n",
    "    size.append(int(n_tr_samples*t))\n",
    "    t = accuracy_score(y_train[ :int(n_tr_samples*t)],clf.predict(X_train[ :int(n_tr_samples*t)]) )\n",
    "    tr_accuracy.append(t)\n",
    "    test_accuracy.append(accuracy_score(y_test, clf.predict(X_test)))\n",
    "    \n",
    "# Draw lines\n",
    "plt.plot(tr_size, tr_accuracy, '--', color=\"#111111\",  label=\"Training accuracy\")\n",
    "plt.plot(tr_size, test_accuracy, color=\"#111111\", label=\"Testing accuracy\")\n",
    "\n",
    "# Create plot\n",
    "plt.title(\"Learning Curve\")\n",
    "plt.xlabel(\"Training Set Size\"), plt.ylabel(\"Accuracy Score\"), plt.legend(loc=\"best\")\n",
    "plt.tight_layout()\n",
    "plt.show()   "
   ]
  },
  {
   "cell_type": "markdown",
   "metadata": {},
   "source": [
    "## KNN"
   ]
  },
  {
   "cell_type": "markdown",
   "metadata": {},
   "source": [
    "k-Nearest Neighbors. You should \"implement\" (the quotes mean I don't mean it: steal the code) kNN. Use different values of k."
   ]
  },
  {
   "cell_type": "code",
   "execution_count": 70,
   "metadata": {},
   "outputs": [],
   "source": [
    "from sklearn.neighbors import KNeighborsClassifier"
   ]
  },
  {
   "cell_type": "code",
   "execution_count": 71,
   "metadata": {},
   "outputs": [
    {
     "name": "stdout",
     "output_type": "stream",
     "text": [
      " number of estimators:  3 max depth of tree:  40  accuracy:  0.573632538569425\n",
      " number of estimators:  5 max depth of tree:  40  accuracy:  0.5844823556905819\n",
      " number of estimators:  11 max depth of tree:  40  accuracy:  0.5986442262739597\n",
      " number of estimators:  21 max depth of tree:  40  accuracy:  0.6091631603553063\n",
      " number of estimators:  30 max depth of tree:  40  accuracy:  0.6087870997896705\n",
      " number of estimators:  50 max depth of tree:  40  accuracy:  0.6008413180649684\n",
      " number of estimators:  70 max depth of tree:  40  accuracy:  0.6035530621785882\n",
      " number of estimators:  100 max depth of tree:  40  accuracy:  0.5978489595510872\n"
     ]
    }
   ],
   "source": [
    "k = [3, 5, 11, 21, 30, 50, 70, 100]\n",
    "\n",
    "numb_of_estimators = [10, 50, 250]\n",
    "max_depth_of_tree = [1, 10, 25, 50, 100, 250]\n",
    "\n",
    "for i in k:\n",
    "    clf = KNeighborsClassifier(n_neighbors=i) \n",
    "    scores = cross_val_score(clf, X_train, y_train, cv=5, scoring='accuracy')\n",
    "    print(\" number of estimators: \", i, \"max depth of tree: \", j,  \" accuracy: \", np.median(scores))"
   ]
  },
  {
   "cell_type": "code",
   "execution_count": 72,
   "metadata": {},
   "outputs": [
    {
     "data": {
      "image/png": "[encoded data removed]",
      "text/plain": [
       "<Figure size 432x288 with 1 Axes>"
      ]
     },
     "metadata": {
      "needs_background": "light"
     },
     "output_type": "display_data"
    }
   ],
   "source": [
    "tr_size = np.linspace(0.02, 1.0, 50)\n",
    "size = []\n",
    "tr_accuracy = []\n",
    "test_accuracy = []\n",
    "n_tr_samples = X_train.shape[0]\n",
    "for t in tr_size:\n",
    "    clf = KNeighborsClassifier(n_neighbors=21)\n",
    "    clf.fit(X_train[ :int(n_tr_samples*t)], y_train[ :int(n_tr_samples*t)])\n",
    "    size.append(int(n_tr_samples*t))\n",
    "    t = accuracy_score(y_train[ :int(n_tr_samples*t)],clf.predict(X_train[ :int(n_tr_samples*t)]) )\n",
    "    tr_accuracy.append(t)\n",
    "    test_accuracy.append(accuracy_score(y_test, clf.predict(X_test)))\n",
    "    \n",
    "# Draw lines\n",
    "plt.plot(tr_size, tr_accuracy, '--', color=\"#111111\",  label=\"Training accuracy\")\n",
    "plt.plot(tr_size, test_accuracy, color=\"#111111\", label=\"Testing accuracy\")\n",
    "\n",
    "# Create plot\n",
    "plt.title(\"Learning Curve\")\n",
    "plt.xlabel(\"Training Set Size\"), plt.ylabel(\"Accuracy Score\"), plt.legend(loc=\"best\")\n",
    "plt.tight_layout()\n",
    "plt.show()   "
   ]
  },
  {
   "cell_type": "code",
   "execution_count": 73,
   "metadata": {},
   "outputs": [
    {
     "name": "stdout",
     "output_type": "stream",
     "text": [
      "Training accuracy:  0.6359257353972783\n",
      "Testing accuracy:  0.6045641601197157\n"
     ]
    }
   ],
   "source": [
    "clf = KNeighborsClassifier(n_neighbors=21)\n",
    "clf.fit(X_train, y_train)\n",
    "print(\"Training accuracy: \", accuracy_score(y_train, clf.predict(X_train)))\n",
    "pr = clf.predict(X_test)\n",
    "print(\"Testing accuracy: \", accuracy_score(y_test, pr))"
   ]
  },
  {
   "cell_type": "code",
   "execution_count": null,
   "metadata": {},
   "outputs": [],
   "source": []
  }
 ],
 "metadata": {
  "kernelspec": {
   "display_name": "Python 3",
   "language": "python",
   "name": "python3"
  },
  "language_info": {
   "codemirror_mode": {
    "name": "ipython",
    "version": 3
   },
   "file_extension": ".py",
   "mimetype": "text/x-python",
   "name": "python",
   "nbconvert_exporter": "python",
   "pygments_lexer": "ipython3",
   "version": "3.7.1"
  }
 },
 "nbformat": 4,
 "nbformat_minor": 2
}
